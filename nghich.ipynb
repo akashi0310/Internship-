{
 "cells": [
  {
   "cell_type": "code",
   "execution_count": null,
   "id": "a1d537d1",
   "metadata": {},
   "outputs": [
    {
     "name": "stdout",
     "output_type": "stream",
     "text": [
      "Classes: ['fake', 'real']\n"
     ]
    }
   ],
   "source": [
    "import os\n",
    "import json\n",
    "import cv2\n",
    "import numpy as np\n",
    "\n",
    "# Root directory of your dataset\n",
    "main_folder = 'path_to_main_folder'\n",
    "\n",
    "# Output where you want to save masks\n",
    "output_mask_dir = 'output_masks'\n",
    "os.makedirs(output_mask_dir, exist_ok=True)\n",
    "\n",
    "# Traverse all subfolders\n",
    "for subfolder in os.listdir(main_folder):\n",
    "    subfolder_path = os.path.join(main_folder, subfolder)\n",
    "    if not os.path.isdir(subfolder_path):\n",
    "        continue\n",
    "\n",
    "    annotation_folder = os.path.join(subfolder_path, 'annotations')\n",
    "    image_folder = os.path.join(subfolder_path, 'images')\n",
    "\n",
    "    # Iterate over each annotation file\n",
    "    for json_file in os.listdir(annotation_folder):\n",
    "        if not json_file.endswith('.json'):\n",
    "            continue\n",
    "\n",
    "        with open(os.path.join(annotation_folder, json_file)) as f:\n",
    "            annotations = json.load(f)\n",
    "\n",
    "        for item in annotations.values():\n",
    "            filename = item['filename']\n",
    "            regions = item['regions']\n",
    "\n",
    "            # Look for image\n",
    "            found_image = None\n",
    "            for sub_img_folder in os.listdir(image_folder):\n",
    "                possible_path = os.path.join(image_folder, sub_img_folder, filename)\n",
    "                if os.path.exists(possible_path):\n",
    "                    found_image = possible_path\n",
    "                    break\n",
    "\n",
    "            if not found_image:\n",
    "                continue\n",
    "\n",
    "            img = cv2.imread(found_image)\n",
    "            h, w = img.shape[:2]\n",
    "            mask = np.zeros((h, w), dtype=np.uint8)\n",
    "\n",
    "            # Draw each region as white on black mask\n",
    "            for region in item['regions']:\n",
    "                shape = region['shape_attributes']\n",
    "\n",
    "                if shape['name'] == 'polygon':\n",
    "                    points = np.array(list(zip(shape['all_points_x'], shape['all_points_y'])), dtype=np.int32)\n",
    "                    cv2.fillPoly(mask, [points], color=255)\n",
    "\n",
    "                elif shape['name'] == 'rect':\n",
    "                    x, y, w_, h_ = shape['x'], shape['y'], shape['width'], shape['height']\n",
    "                    cv2.rectangle(mask, (x, y), (x + w_, y + h_), 255, -1)\n",
    "\n",
    "            # Save mask\n",
    "            rel_path = os.path.relpath(found_image, main_folder).replace(os.sep, '_')\n",
    "            mask_path = os.path.join(output_mask_dir, f\"{os.path.splitext(rel_path)[0]}_mask.png\")\n",
    "            cv2.imwrite(mask_path, mask)\n"
   ]
  },
  {
   "cell_type": "code",
   "execution_count": 17,
   "id": "44ac5f9a",
   "metadata": {},
   "outputs": [],
   "source": [
    "import torch.nn as nn\n",
    "\n",
    "class SimpleCNN(nn.Module):\n",
    "    def __init__(self):\n",
    "        super(SimpleCNN, self).__init__()\n",
    "        self.conv1 = nn.Conv2d(3, 16, kernel_size=3, stride=1, padding=1)\n",
    "        self.pool = nn.MaxPool2d(kernel_size=2, stride=2, padding=0)\n",
    "        self.conv2 = nn.Conv2d(16, 32, kernel_size=3, stride=1, padding=1)\n",
    "        self.fc1 = nn.Linear(32 * 56 * 56, 128) \n",
    "        self.fc2 = nn.Linear(128, 2)  \n",
    "\n",
    "    def forward(self, x):\n",
    "        x = self.pool(torch.relu(self.conv1(x)))\n",
    "        x = self.pool(torch.relu(self.conv2(x)))\n",
    "        x = x.view(-1, 32 * 56 * 56)  \n",
    "        x = torch.relu(self.fc1(x))\n",
    "        x = self.fc2(x)\n",
    "        x = torch.softmax(x, dim=1) \n",
    "        return x\n",
    "    \n"
   ]
  },
  {
   "cell_type": "code",
   "execution_count": null,
   "id": "d7c4f0f9",
   "metadata": {},
   "outputs": [],
   "source": []
  }
 ],
 "metadata": {
  "kernelspec": {
   "display_name": "karma",
   "language": "python",
   "name": "python3"
  },
  "language_info": {
   "codemirror_mode": {
    "name": "ipython",
    "version": 3
   },
   "file_extension": ".py",
   "mimetype": "text/x-python",
   "name": "python",
   "nbconvert_exporter": "python",
   "pygments_lexer": "ipython3",
   "version": "3.12.4"
  }
 },
 "nbformat": 4,
 "nbformat_minor": 5
}
